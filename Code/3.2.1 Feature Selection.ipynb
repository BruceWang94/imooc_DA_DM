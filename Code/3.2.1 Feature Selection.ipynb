{
 "cells": [
  {
   "cell_type": "code",
   "execution_count": 1,
   "metadata": {},
   "outputs": [],
   "source": [
    "import numpy as np\n",
    "import pandas as pd\n",
    "import scipy.stats as ss"
   ]
  },
  {
   "cell_type": "code",
   "execution_count": 2,
   "metadata": {},
   "outputs": [
    {
     "data": {
      "text/html": [
       "<div>\n",
       "<style scoped>\n",
       "    .dataframe tbody tr th:only-of-type {\n",
       "        vertical-align: middle;\n",
       "    }\n",
       "\n",
       "    .dataframe tbody tr th {\n",
       "        vertical-align: top;\n",
       "    }\n",
       "\n",
       "    .dataframe thead th {\n",
       "        text-align: right;\n",
       "    }\n",
       "</style>\n",
       "<table border=\"1\" class=\"dataframe\">\n",
       "  <thead>\n",
       "    <tr style=\"text-align: right;\">\n",
       "      <th></th>\n",
       "      <th>A</th>\n",
       "      <th>B</th>\n",
       "      <th>C</th>\n",
       "      <th>D</th>\n",
       "    </tr>\n",
       "  </thead>\n",
       "  <tbody>\n",
       "    <tr>\n",
       "      <th>0</th>\n",
       "      <td>0.107670</td>\n",
       "      <td>-0.872661</td>\n",
       "      <td>-1.156716</td>\n",
       "      <td>1</td>\n",
       "    </tr>\n",
       "    <tr>\n",
       "      <th>1</th>\n",
       "      <td>-0.311089</td>\n",
       "      <td>0.243511</td>\n",
       "      <td>0.663942</td>\n",
       "      <td>0</td>\n",
       "    </tr>\n",
       "    <tr>\n",
       "      <th>2</th>\n",
       "      <td>0.928557</td>\n",
       "      <td>-1.091504</td>\n",
       "      <td>2.238937</td>\n",
       "      <td>0</td>\n",
       "    </tr>\n",
       "    <tr>\n",
       "      <th>3</th>\n",
       "      <td>-1.965702</td>\n",
       "      <td>-0.534545</td>\n",
       "      <td>-1.706319</td>\n",
       "      <td>0</td>\n",
       "    </tr>\n",
       "    <tr>\n",
       "      <th>4</th>\n",
       "      <td>-0.224745</td>\n",
       "      <td>-0.186885</td>\n",
       "      <td>-0.044241</td>\n",
       "      <td>0</td>\n",
       "    </tr>\n",
       "    <tr>\n",
       "      <th>5</th>\n",
       "      <td>-1.415967</td>\n",
       "      <td>0.324085</td>\n",
       "      <td>1.413737</td>\n",
       "      <td>0</td>\n",
       "    </tr>\n",
       "    <tr>\n",
       "      <th>6</th>\n",
       "      <td>1.137793</td>\n",
       "      <td>0.100660</td>\n",
       "      <td>1.550108</td>\n",
       "      <td>0</td>\n",
       "    </tr>\n",
       "    <tr>\n",
       "      <th>7</th>\n",
       "      <td>0.929584</td>\n",
       "      <td>-0.263292</td>\n",
       "      <td>0.049247</td>\n",
       "      <td>1</td>\n",
       "    </tr>\n",
       "    <tr>\n",
       "      <th>8</th>\n",
       "      <td>-0.786499</td>\n",
       "      <td>1.737097</td>\n",
       "      <td>0.071660</td>\n",
       "      <td>1</td>\n",
       "    </tr>\n",
       "    <tr>\n",
       "      <th>9</th>\n",
       "      <td>0.397930</td>\n",
       "      <td>0.639269</td>\n",
       "      <td>0.529168</td>\n",
       "      <td>0</td>\n",
       "    </tr>\n",
       "  </tbody>\n",
       "</table>\n",
       "</div>"
      ],
      "text/plain": [
       "          A         B         C  D\n",
       "0  0.107670 -0.872661 -1.156716  1\n",
       "1 -0.311089  0.243511  0.663942  0\n",
       "2  0.928557 -1.091504  2.238937  0\n",
       "3 -1.965702 -0.534545 -1.706319  0\n",
       "4 -0.224745 -0.186885 -0.044241  0\n",
       "5 -1.415967  0.324085  1.413737  0\n",
       "6  1.137793  0.100660  1.550108  0\n",
       "7  0.929584 -0.263292  0.049247  1\n",
       "8 -0.786499  1.737097  0.071660  1\n",
       "9  0.397930  0.639269  0.529168  0"
      ]
     },
     "execution_count": 2,
     "metadata": {},
     "output_type": "execute_result"
    }
   ],
   "source": [
    "## Constructure the dataframe with 4 columns.\n",
    "#  ‘D’ is the label\n",
    "df = pd.DataFrame({'A':ss.norm.rvs(size=10), \n",
    "                   'B':ss.norm.rvs(size=10), \n",
    "                   'C':ss.norm.rvs(size=10), \n",
    "                   'D':np.random.randint(low=0, high=2, size=10)})\n",
    "df"
   ]
  },
  {
   "cell_type": "code",
   "execution_count": 3,
   "metadata": {},
   "outputs": [],
   "source": [
    "from sklearn.svm import SVR\n",
    "from sklearn.tree import DecisionTreeRegressor"
   ]
  },
  {
   "cell_type": "code",
   "execution_count": 4,
   "metadata": {},
   "outputs": [],
   "source": [
    "## define the features and label\n",
    "X = df.loc[:, ['A','B','C']]\n",
    "Y = df.loc[:, 'D']"
   ]
  },
  {
   "cell_type": "code",
   "execution_count": 5,
   "metadata": {},
   "outputs": [],
   "source": [
    "## import the feature selection package\n",
    "#  SelectKBest过滤思想类，RFE包裹思想类，SelectFromModel嵌入思想类\n",
    "from sklearn.feature_selection import SelectKBest, RFE, SelectFromModel"
   ]
  },
  {
   "cell_type": "code",
   "execution_count": 6,
   "metadata": {},
   "outputs": [
    {
     "data": {
      "text/plain": [
       "SelectKBest(k=2, score_func=<function f_classif at 0x1a24fbf158>)"
      ]
     },
     "execution_count": 6,
     "metadata": {},
     "output_type": "execute_result"
    }
   ],
   "source": [
    "skb = SelectKBest(k=2)\n",
    "skb.fit(X,Y)"
   ]
  },
  {
   "cell_type": "code",
   "execution_count": 7,
   "metadata": {},
   "outputs": [
    {
     "data": {
      "text/plain": [
       "array([[-0.87266115, -1.15671589],\n",
       "       [ 0.24351114,  0.66394214],\n",
       "       [-1.09150427,  2.23893746],\n",
       "       [-0.53454543, -1.70631883],\n",
       "       [-0.18688524, -0.04424111],\n",
       "       [ 0.3240854 ,  1.41373676],\n",
       "       [ 0.10065995,  1.5501078 ],\n",
       "       [-0.26329175,  0.04924709],\n",
       "       [ 1.73709742,  0.07165986],\n",
       "       [ 0.63926935,  0.52916838]])"
      ]
     },
     "execution_count": 7,
     "metadata": {},
     "output_type": "execute_result"
    }
   ],
   "source": [
    "skb.transform(X)"
   ]
  },
  {
   "cell_type": "code",
   "execution_count": 8,
   "metadata": {},
   "outputs": [
    {
     "data": {
      "text/plain": [
       "array([[-0.87266115, -1.15671589],\n",
       "       [ 0.24351114,  0.66394214],\n",
       "       [-1.09150427,  2.23893746],\n",
       "       [-0.53454543, -1.70631883],\n",
       "       [-0.18688524, -0.04424111],\n",
       "       [ 0.3240854 ,  1.41373676],\n",
       "       [ 0.10065995,  1.5501078 ],\n",
       "       [-0.26329175,  0.04924709],\n",
       "       [ 1.73709742,  0.07165986],\n",
       "       [ 0.63926935,  0.52916838]])"
      ]
     },
     "execution_count": 8,
     "metadata": {},
     "output_type": "execute_result"
    }
   ],
   "source": [
    "rfe = RFE(estimator=SVR(kernel='linear'), n_features_to_select=2, step=1)\n",
    "rfe.fit_transform(X, Y)"
   ]
  },
  {
   "cell_type": "code",
   "execution_count": 10,
   "metadata": {},
   "outputs": [
    {
     "data": {
      "text/plain": [
       "array([[-0.87266115, -1.15671589],\n",
       "       [ 0.24351114,  0.66394214],\n",
       "       [-1.09150427,  2.23893746],\n",
       "       [-0.53454543, -1.70631883],\n",
       "       [-0.18688524, -0.04424111],\n",
       "       [ 0.3240854 ,  1.41373676],\n",
       "       [ 0.10065995,  1.5501078 ],\n",
       "       [-0.26329175,  0.04924709],\n",
       "       [ 1.73709742,  0.07165986],\n",
       "       [ 0.63926935,  0.52916838]])"
      ]
     },
     "execution_count": 10,
     "metadata": {},
     "output_type": "execute_result"
    }
   ],
   "source": [
    "sfm = SelectFromModel(estimator=DecisionTreeRegressor(), threshold=0.1)\n",
    "sfm.fit_transform(X,Y)"
   ]
  },
  {
   "cell_type": "code",
   "execution_count": null,
   "metadata": {},
   "outputs": [],
   "source": []
  }
 ],
 "metadata": {
  "kernelspec": {
   "display_name": "Python 3",
   "language": "python",
   "name": "python3"
  },
  "language_info": {
   "codemirror_mode": {
    "name": "ipython",
    "version": 3
   },
   "file_extension": ".py",
   "mimetype": "text/x-python",
   "name": "python",
   "nbconvert_exporter": "python",
   "pygments_lexer": "ipython3",
   "version": "3.7.3"
  }
 },
 "nbformat": 4,
 "nbformat_minor": 2
}
